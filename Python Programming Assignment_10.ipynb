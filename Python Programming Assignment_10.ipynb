{
 "cells": [
  {
   "cell_type": "code",
   "execution_count": null,
   "id": "f6832e18",
   "metadata": {},
   "outputs": [],
   "source": [
    "Question 1.Write a Python Program to find sum of elements in a list ?"
   ]
  },
  {
   "cell_type": "code",
   "execution_count": 7,
   "id": "688a46fe",
   "metadata": {},
   "outputs": [
    {
     "name": "stdout",
     "output_type": "stream",
     "text": [
      "Enter the No of Entries in a List: 3\n",
      "Enter a element: 32\n",
      "Enter a element: 56\n",
      "Enter a element: 44\n",
      "Sum of Elements: 132\n"
     ]
    }
   ],
   "source": [
    "def sumofList():\n",
    "    in_ele = int(input('Enter the No of Entries in a List: '))\n",
    "    in_list = []\n",
    "    for itr in range(in_ele):\n",
    "        in_list.append(int(input('Enter a element: ')))\n",
    "    print(f'Sum of Elements: {sum(in_list)}')\n",
    "\n",
    "sumofList()"
   ]
  },
  {
   "cell_type": "code",
   "execution_count": null,
   "id": "a79d1bd7",
   "metadata": {},
   "outputs": [],
   "source": [
    "Question 2.Write a Python Program to multiply all numbers in the list ?"
   ]
  },
  {
   "cell_type": "code",
   "execution_count": 6,
   "id": "edfd3eb0",
   "metadata": {},
   "outputs": [
    {
     "name": "stdout",
     "output_type": "stream",
     "text": [
      "Enter the No of Entries in a List: 3\n",
      "Enter a element: 21\n",
      "Enter a element: 23\n",
      "Enter a element: 12\n",
      "5796\n"
     ]
    }
   ],
   "source": [
    "def mulofList():\n",
    "    in_ele = int(input('Enter the No of Entries in a List: '))\n",
    "    in_list = []\n",
    "    mul = 1\n",
    "    for itr in range(in_ele):\n",
    "        in_list.append(int(input('Enter a element: ')))\n",
    "    for ele in in_list:\n",
    "        mul = mul * ele\n",
    "    print(mul)\n",
    "\n",
    "mulofList()    "
   ]
  },
  {
   "cell_type": "code",
   "execution_count": null,
   "id": "7ec7b853",
   "metadata": {},
   "outputs": [],
   "source": [
    "3.Write a Python Program to find smallest number in the list ?"
   ]
  },
  {
   "cell_type": "code",
   "execution_count": 5,
   "id": "9cb85e30",
   "metadata": {},
   "outputs": [
    {
     "name": "stdout",
     "output_type": "stream",
     "text": [
      "Enter the No of elements in a list: 5\n",
      "Enter a Element: 32\n",
      "Enter a Element: 12\n",
      "Enter a Element: 1\n",
      "Enter a Element: 55\n",
      "Enter a Element: 34\n",
      "The Largest Element in [32, 12, 1, 55, 34] is 1\n"
     ]
    }
   ],
   "source": [
    "def smallestnolist():\n",
    "    a5 = int(input('Enter the No of elements in a list: '))\n",
    "    b5 = []\n",
    "    for i in range(a5):\n",
    "        b5.append(int(input('Enter a Element: ')))\n",
    "    print(f'The Largest Element in {b5} is {sorted(b5, reverse=False)[0]}')\n",
    "\n",
    "smallestnolist()"
   ]
  },
  {
   "cell_type": "code",
   "execution_count": null,
   "id": "fe9c9aa8",
   "metadata": {},
   "outputs": [],
   "source": [
    "Question 4.Write a Python Program to find largest number in the list ?"
   ]
  },
  {
   "cell_type": "code",
   "execution_count": 4,
   "id": "10207007",
   "metadata": {},
   "outputs": [
    {
     "name": "stdout",
     "output_type": "stream",
     "text": [
      "Enter the No of elements in a list: 4\n",
      "Enter a Element: 55\n",
      "Enter a Element: 45\n",
      "Enter a Element: 66\n",
      "Enter a Element: 44\n",
      "The Largest Element in [55, 45, 66, 44] is 66\n"
     ]
    }
   ],
   "source": [
    "def largestEleInList():\n",
    "    a4 = int(input('Enter the No of elements in a list: '))\n",
    "    b4 = []\n",
    "    for i in range(a4):\n",
    "        b4.append(int(input('Enter a Element: ')))\n",
    "    print(f'The Largest Element in {b4} is {sorted(b4, reverse=True)[0]}')\n",
    "\n",
    "largestEleInList()"
   ]
  },
  {
   "cell_type": "code",
   "execution_count": null,
   "id": "6ca4d63b",
   "metadata": {},
   "outputs": [],
   "source": [
    "Question 5.Write a Python Program to find second largest number in the list ?"
   ]
  },
  {
   "cell_type": "code",
   "execution_count": 2,
   "id": "6d6785ab",
   "metadata": {},
   "outputs": [
    {
     "name": "stdout",
     "output_type": "stream",
     "text": [
      "Enter the No of elements in a list: 4\n",
      "Enter a Element: 23\n",
      "Enter a Element: 22\n",
      "Enter a Element: 12\n",
      "Enter a Element: 33\n",
      "The Second Largest Element in [23, 22, 12, 33] is 23\n"
     ]
    }
   ],
   "source": [
    "def secondLargestEleInList():\n",
    "    a3= int(input('Enter the No of elements in a list: '))\n",
    "    b3 = []\n",
    "    for ele in range(a3):\n",
    "        b3.append(int(input('Enter a Element: ')))\n",
    "    print(f'The Second Largest Element in {b3} is {sorted (b3, reverse=True)[1]}')\n",
    "\n",
    "secondLargestEleInList()"
   ]
  },
  {
   "cell_type": "code",
   "execution_count": null,
   "id": "e1282ccd",
   "metadata": {},
   "outputs": [],
   "source": [
    "Question 6.Write a Python Program to find N largest elements in the list ?"
   ]
  },
  {
   "cell_type": "code",
   "execution_count": 3,
   "id": "65257710",
   "metadata": {},
   "outputs": [
    {
     "name": "stdout",
     "output_type": "stream",
     "text": [
      "Enter the No of elements in a list: 4\n",
      "Enter a Element: 33\n",
      "Enter a Element: 54\n",
      "Enter a Element: 22\n",
      "Enter a Element: 34\n",
      "The 2 Largest Element in [33, 54, 22, 34] is [54, 34]\n"
     ]
    }
   ],
   "source": [
    "def nLargestEleInList(k):\n",
    "    a = int(input('Enter the No of elements in a list: '))\n",
    "    b = []\n",
    "    for i in range(a):\n",
    "        b.append(int(input('Enter a Element: ')))\n",
    "    print(f'The {k} Largest Element in {b} is {sorted(b, reverse=True)[0:k]}')\n",
    "\n",
    "nLargestEleInList(2)"
   ]
  },
  {
   "cell_type": "code",
   "execution_count": null,
   "id": "da8793a7",
   "metadata": {},
   "outputs": [],
   "source": [
    "Question 7.Write a Python Program to find even numbers in the list ?"
   ]
  },
  {
   "cell_type": "code",
   "execution_count": 21,
   "id": "1b652a4a",
   "metadata": {},
   "outputs": [
    {
     "name": "stdout",
     "output_type": "stream",
     "text": [
      "Enter the No of elements in a list: 4\n",
      "Enter a Element: 11\n",
      "Enter a Element: 12\n",
      "Enter a Element: 22\n",
      "Enter a Element: 33\n",
      "The Even Elements in [11, 12, 22, 33] are [12, 22]\n"
     ]
    }
   ],
   "source": [
    "def evenNoInList():\n",
    "    a2= int(input('Enter the No of elements in a list: '))\n",
    "    b2= []\n",
    "    c2= []\n",
    "    for i in range(a2):\n",
    "        b2.append(int(input('Enter a Element: ')))\n",
    "    for i in b2:\n",
    "        if i%2 == 0:\n",
    "            c2.append(i)\n",
    "    print(f'The Even Elements in {b2} are {c2}')\n",
    "\n",
    "evenNoInList()"
   ]
  },
  {
   "cell_type": "code",
   "execution_count": null,
   "id": "fc44d602",
   "metadata": {},
   "outputs": [],
   "source": [
    "Question 8.Write a Python Program to find odd numbers in the list ?"
   ]
  },
  {
   "cell_type": "code",
   "execution_count": 18,
   "id": "dfe80b3b",
   "metadata": {},
   "outputs": [
    {
     "name": "stdout",
     "output_type": "stream",
     "text": [
      "Enter the No of elements in a list: 4\n",
      "Enter a Element: 12\n",
      "Enter a Element: 122\n",
      "Enter a Element: 22\n",
      "Enter a Element: 33\n",
      "The Odd Elements in [12, 122, 22, 33] are [33]\n"
     ]
    }
   ],
   "source": [
    "def oddNoInList():\n",
    "    a = int(input('Enter the No of elements in a list: '))\n",
    "    b = []\n",
    "    c = []\n",
    "    for i in range(a):\n",
    "        b.append(int(input('Enter a Element: ')))\n",
    "    for i in b:\n",
    "        if i%2 != 0:\n",
    "            c.append(i)\n",
    "    print(f'The Odd Elements in {b} are {c}')\n",
    "\n",
    "oddNoInList()"
   ]
  },
  {
   "cell_type": "code",
   "execution_count": null,
   "id": "ee9ed68a",
   "metadata": {},
   "outputs": [],
   "source": [
    "Question 9.Write a Python Program to remove empty list from list ?"
   ]
  },
  {
   "cell_type": "code",
   "execution_count": 4,
   "id": "6b16558b",
   "metadata": {},
   "outputs": [
    {
     "name": "stdout",
     "output_type": "stream",
     "text": [
      "Enter all elements of the list: [22,95,99,[],343]\n",
      "There is an Empty list in [22, 95, 99, [], 343] at Position 3\n",
      "The List after removing [] is [22, 95, 99, 343]\n"
     ]
    }
   ],
   "source": [
    "def checkEmptyList():\n",
    "    a = eval(input('Enter all elements of the list: '))\n",
    "    if [] in a:\n",
    "        print(f'There is an Empty list in {a} at Position {a.index([])}')\n",
    "        a.remove([])\n",
    "        print(f'The List after removing [] is {a}')\n",
    "    else:\n",
    "        print(f'There is no [] List in the list {a}')\n",
    "        \n",
    "checkEmptyList()"
   ]
  },
  {
   "cell_type": "code",
   "execution_count": null,
   "id": "5b4afb85",
   "metadata": {},
   "outputs": [],
   "source": [
    "Question 10.Write a Python Program to Cloning or Copying a list ?\n",
    "\n",
    "Enter a list[1,2,3,4,5,6,7,8,9,0]\n",
    "[1, 2, 3, 4, 5, 6, 7, 8, 9, 0] 1804715913280\n",
    "[1, 2, 3, 4, 5, 6, 7, 8, 9, 0] 1804715963072\n"
   ]
  },
  {
   "cell_type": "code",
   "execution_count": 1,
   "id": "815535a3",
   "metadata": {},
   "outputs": [
    {
     "name": "stdout",
     "output_type": "stream",
     "text": [
      "Enter a list[212,44,54,66,75]\n",
      "[212, 44, 54, 66, 75] 2319970389056\n",
      "[212, 44, 54, 66, 75] 2319970096896\n"
     ]
    }
   ],
   "source": [
    "import copy\n",
    "\n",
    "def cloneList():\n",
    "    in_list = eval(input('Enter a list'))\n",
    "    print(in_list, id(in_list))\n",
    "    cloned_list = in_list.copy()\n",
    "    print(cloned_list, id(cloned_list))\n",
    "\n",
    "cloneList()"
   ]
  },
  {
   "cell_type": "code",
   "execution_count": null,
   "id": "29c56fd6",
   "metadata": {},
   "outputs": [],
   "source": [
    "Question 11.Write a Python Program to count occurences of an element in a list ?"
   ]
  },
  {
   "cell_type": "code",
   "execution_count": 2,
   "id": "7d92fc58",
   "metadata": {},
   "outputs": [
    {
     "name": "stdout",
     "output_type": "stream",
     "text": [
      "Enter the elements of the list: 2,3,4,1,5\n",
      "Enter the element to find: 1\n",
      "There are 1 occurences of 1 in (2, 3, 4, 1, 5)\n"
     ]
    }
   ],
   "source": [
    "def checkOccurence():\n",
    "    in_list = eval(input('Enter the elements of the list: '))\n",
    "    in_num = eval(input('Enter the element to find: '))\n",
    "    count = 0\n",
    "    if in_num in in_list:\n",
    "        for i in in_list:\n",
    "            if ele == in_num:\n",
    "                count = count+1\n",
    "    print(f'There are {count} occurences of {in_num} in {in_list}')\n",
    "checkOccurence()"
   ]
  }
 ],
 "metadata": {
  "kernelspec": {
   "display_name": "Python 3 (ipykernel)",
   "language": "python",
   "name": "python3"
  },
  "language_info": {
   "codemirror_mode": {
    "name": "ipython",
    "version": 3
   },
   "file_extension": ".py",
   "mimetype": "text/x-python",
   "name": "python",
   "nbconvert_exporter": "python",
   "pygments_lexer": "ipython3",
   "version": "3.9.12"
  }
 },
 "nbformat": 4,
 "nbformat_minor": 5
}
