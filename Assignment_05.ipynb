{
 "cells": [
  {
   "cell_type": "code",
   "execution_count": null,
   "id": "71dc0fc7",
   "metadata": {},
   "outputs": [],
   "source": [
    "Question 1.What does an empty dictionary's code look like?\n",
    "\n",
    "Ans: An empty dictionary is often represented by two empty curly brackets\n",
    "d = {} or d = dict()"
   ]
  },
  {
   "cell_type": "code",
   "execution_count": null,
   "id": "21c7870a",
   "metadata": {},
   "outputs": [],
   "source": [
    "Question 2.what is the value of dictionary value with key 'foo' and the value 42 ?\n",
    "\n",
    "Ans: Output of above {'foo':42}"
   ]
  },
  {
   "cell_type": "code",
   "execution_count": null,
   "id": "86d4cd0a",
   "metadata": {},
   "outputs": [],
   "source": [
    "Question 3.What is the most significant distinction between a dictionary and a list?\n",
    "\n",
    "Ans: Dictionaries are represented by {} where as lists are represented by []\n",
    "The Items stored in a dictionary are Unordered , while the items stored in a list are ordered.\n"
   ]
  },
  {
   "cell_type": "code",
   "execution_count": null,
   "id": "d595a920",
   "metadata": {},
   "outputs": [],
   "source": [
    "Question 4.What happens if you try to access spam ['foo'] if spam is {'bar':100} ?\n",
    "\n",
    "Ans: we will get a keyError KeyError: 'foo'\n"
   ]
  },
  {
   "cell_type": "code",
   "execution_count": null,
   "id": "dc47fd56",
   "metadata": {},
   "outputs": [],
   "source": [
    "Question 5.If a dictionary is stored in spam,what is the difference between the expressions 'cat' in spam and 'cat' in spam.keys() ?\n",
    "\n",
    "Ans: There is no difference  between the expressions 'cat' in spam and 'cat' in spam.keys() ?\n",
    "\n",
    "     The operator checks whether a value exits as a key in the dictionary or not"
   ]
  },
  {
   "cell_type": "code",
   "execution_count": null,
   "id": "b01f6604",
   "metadata": {},
   "outputs": [],
   "source": [
    "Question 6.If a dictionary is stored in spam,what is the difference between the expressions 'cat' in spam and 'cat' in spam.values() ?\n",
    "\n",
    "Ans:'cat' in spam checks whether there is a 'cat' key in the dictionary, while 'cat' in spam.values() checks whether there is a value 'cat' for one of the keys in spam."
   ]
  },
  {
   "cell_type": "code",
   "execution_count": null,
   "id": "6a514e2f",
   "metadata": {},
   "outputs": [],
   "source": [
    "Question 7.what is a shortcut for the following code ?\n",
    "if 'color' not in spam:\n",
    "    spam['color'] ='black'\n",
    "\n",
    "Ans: spam.setdefault('color','black')"
   ]
  },
  {
   "cell_type": "code",
   "execution_count": null,
   "id": "55b20315",
   "metadata": {},
   "outputs": [],
   "source": [
    "Question 8.How do you 'pretty print' dictionary values using which modules and function ?\n",
    "\n",
    "Ans: we can pretty print a dictionary using three functions\n",
    "\n",
    "by using pprint() function of pprint module\n",
    "Note: pprint() function doesnot prettify nested dictionaries\n",
    "by using dumps() method of json module\n",
    "by using dumps() method of yaml module\n"
   ]
  },
  {
   "cell_type": "code",
   "execution_count": 6,
   "id": "ee0b8420",
   "metadata": {},
   "outputs": [
    {
     "name": "stdout",
     "output_type": "stream",
     "text": [
      "Printing using print() function\n",
      " [{'Name': 'Amit', 'Age': '27', 'Residence': {'State': 'Haryana', 'City': 'Gurugram'}}, {'Name': 'Varun', 'Age': '32', 'Residence': {'State': 'Karnataka', 'City': 'Bengluru'}}, {'Name': 'Arun', 'Age': '29', 'Residence': {'State': 'Rajasthan', 'City': 'Jodhpur'}}, {'Name': 'Kapil', 'Age': '30', 'Residence': {'State': 'Uttarpradesh', 'City': 'Allahabad'}}]\n",
      "----------------------------------------------------------------------\n",
      "Printing using pprint() funciton\n",
      "[{'Age': '27',\n",
      "  'Name': 'Amit',\n",
      "  'Residence': {'City': 'Gurugram', 'State': 'Haryana'}},\n",
      " {'Age': '32',\n",
      "  'Name': 'Varun',\n",
      "  'Residence': {'City': 'Bengluru', 'State': 'Karnataka'}},\n",
      " {'Age': '29',\n",
      "  'Name': 'Arun',\n",
      "  'Residence': {'City': 'Jodhpur', 'State': 'Rajasthan'}},\n",
      " {'Age': '30',\n",
      "  'Name': 'Kapil',\n",
      "  'Residence': {'City': 'Allahabad', 'State': 'Uttarpradesh'}}]\n",
      "----------------------------------------------------------------------\n",
      "Printing using dumps() method\n",
      " [\n",
      "    {\n",
      "        \"Name\": \"Amit\",\n",
      "        \"Age\": \"27\",\n",
      "        \"Residence\": {\n",
      "            \"State\": \"Haryana\",\n",
      "            \"City\": \"Gurugram\"\n",
      "        }\n",
      "    },\n",
      "    {\n",
      "        \"Name\": \"Varun\",\n",
      "        \"Age\": \"32\",\n",
      "        \"Residence\": {\n",
      "            \"State\": \"Karnataka\",\n",
      "            \"City\": \"Bengluru\"\n",
      "        }\n",
      "    },\n",
      "    {\n",
      "        \"Name\": \"Arun\",\n",
      "        \"Age\": \"29\",\n",
      "        \"Residence\": {\n",
      "            \"State\": \"Rajasthan\",\n",
      "            \"City\": \"Jodhpur\"\n",
      "        }\n",
      "    },\n",
      "    {\n",
      "        \"Name\": \"Kapil\",\n",
      "        \"Age\": \"30\",\n",
      "        \"Residence\": {\n",
      "            \"State\": \"Uttarpradesh\",\n",
      "            \"City\": \"Allahabad\"\n",
      "        }\n",
      "    }\n",
      "]\n",
      "----------------------------------------------------------------------\n",
      "Printing using dump() method\n",
      " - Age: '27'\n",
      "  Name: Amit\n",
      "  Residence:\n",
      "    City: Gurugram\n",
      "    State: Haryana\n",
      "- Age: '32'\n",
      "  Name: Varun\n",
      "  Residence:\n",
      "    City: Bengluru\n",
      "    State: Karnataka\n",
      "- Age: '29'\n",
      "  Name: Arun\n",
      "  Residence:\n",
      "    City: Jodhpur\n",
      "    State: Rajasthan\n",
      "- Age: '30'\n",
      "  Name: Kapil\n",
      "  Residence:\n",
      "    City: Allahabad\n",
      "    State: Uttarpradesh\n",
      "\n"
     ]
    }
   ],
   "source": [
    "\n",
    "ndict  = [\n",
    "  {'Name': 'Amit', 'Age': '27', 'Residence': {'State':'Haryana', 'City': 'Gurugram'}},\n",
    "  {'Name': 'Varun', 'Age': '32', 'Residence': {'State':'Karnataka', 'City': 'Bengluru'}},\n",
    "  {'Name': 'Arun', 'Age': '29', 'Residence': {'State':'Rajasthan', 'City': 'Jodhpur'}},\n",
    "  {'Name': 'Kapil', 'Age': '30', 'Residence': {'State':'Uttarpradesh', 'City': 'Allahabad'}}\n",
    "]\n",
    "\n",
    "print('Printing using print() function\\n',ndict)\n",
    "print('-'*70)\n",
    "import pprint\n",
    "print('Printing using pprint() funciton')\n",
    "pprint.pprint(ndict)\n",
    "print('-'*70)\n",
    "import json\n",
    "dump = json.dumps(ndict, indent=4)\n",
    "print('Printing using dumps() method\\n', dump)\n",
    "print('-'*70)\n",
    "import yaml\n",
    "dump = yaml.dump(ndict)\n",
    "print('Printing using dump() method\\n', dump)"
   ]
  }
 ],
 "metadata": {
  "kernelspec": {
   "display_name": "Python 3 (ipykernel)",
   "language": "python",
   "name": "python3"
  },
  "language_info": {
   "codemirror_mode": {
    "name": "ipython",
    "version": 3
   },
   "file_extension": ".py",
   "mimetype": "text/x-python",
   "name": "python",
   "nbconvert_exporter": "python",
   "pygments_lexer": "ipython3",
   "version": "3.9.12"
  }
 },
 "nbformat": 4,
 "nbformat_minor": 5
}
