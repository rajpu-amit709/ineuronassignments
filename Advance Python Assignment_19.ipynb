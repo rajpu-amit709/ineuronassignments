{
 "cells": [
  {
   "cell_type": "code",
   "execution_count": null,
   "id": "797d5cfc",
   "metadata": {},
   "outputs": [],
   "source": [
    "Question 1. Define the relationship between a class and its instances. Is it a one-to-one or a one-to-many partnership, for example?\n",
    "\n",
    "Ans: Relationship between a class and its instances is a one to many partnership."
   ]
  },
  {
   "cell_type": "code",
   "execution_count": null,
   "id": "ea57ac00",
   "metadata": {},
   "outputs": [],
   "source": [
    "Question 2. What kind of data is held only in an instance?\n",
    "\n",
    "Ans: Instance objects contains the Instance variables which are specific to that specific Instance object."
   ]
  },
  {
   "cell_type": "code",
   "execution_count": null,
   "id": "d9eda9f6",
   "metadata": {},
   "outputs": [],
   "source": [
    "Question 3. What kind of knowledge is stored in a class?\n",
    "\n",
    "Ans: Class creates a user-defined data structure, which holds its own data members and member functions, which can be accessed and used by creating an instance of that class. A class is like a blueprint for an object."
   ]
  },
  {
   "cell_type": "code",
   "execution_count": null,
   "id": "a4434982",
   "metadata": {},
   "outputs": [],
   "source": [
    "Question 4. What exactly is a method, and how is it different from a regular function?\n",
    "\n",
    "Ans: The methods with a class can be used to access the insatnce variables of its instance. So,the object's state can be modified by its method. Function can't access the attributes of an instance of a class or can't modify the state of the object."
   ]
  },
  {
   "cell_type": "code",
   "execution_count": null,
   "id": "80069db9",
   "metadata": {},
   "outputs": [],
   "source": [
    "Question 5. Is inheritance supported in Python, and if so, what is the syntax?\n",
    "\n",
    "Ans: Yes,Python supports inheritance. The Types of Inheritence Supported by Python are:\n",
    "\n",
    "Simple Inheritence\n",
    "Multiple Inheritence\n",
    "Multilevel lInheritence\n",
    "Hybrid Inheritence\n",
    "Hierracial Inheritence\n",
    "class Person:\n",
    "    def __init__(self, fname, lname):\n",
    "        self.first_name = fname\n",
    "        self.last_name = lname\n",
    "class Student(Person):\n",
    "    pass"
   ]
  },
  {
   "cell_type": "code",
   "execution_count": null,
   "id": "b6968373",
   "metadata": {},
   "outputs": [],
   "source": [
    "Question 6. How much encapsulation (making instance or class variables private) does Python support?\n",
    "\n",
    "Ans: Encapsulation describes the idea of wrapping data and the methods that work on data within one unit. This puts restrictions on accessing variables and methods directly and can prevent the accidental modification of data. To prevent accidental change, an objects variable can only be changed by an objects method."
   ]
  },
  {
   "cell_type": "code",
   "execution_count": null,
   "id": "e8ae50c5",
   "metadata": {},
   "outputs": [],
   "source": [
    "Question 7. How do you distinguish between a class variable and an instance variable?\n",
    "\n",
    "Ans: The Class Attribute is available to all the instance objects of that class. whereas Instance Attributes are accessible only to the object or Instance of that class.\n",
    "\n",
    "A single copy of Class attributes is maintained by pvm at the class level. Whereas difference copies of instance attributes are maintained by pvm at objects/instance level.\n"
   ]
  },
  {
   "cell_type": "code",
   "execution_count": null,
   "id": "fa360412",
   "metadata": {},
   "outputs": [],
   "source": [
    "Question 8. When, if ever, can self be included in a class's method definitions?\n",
    "\n",
    "Ans: Yes, self can included in class method definations to access the instance variables inside class methods."
   ]
  },
  {
   "cell_type": "code",
   "execution_count": null,
   "id": "0cb7d740",
   "metadata": {},
   "outputs": [],
   "source": [
    "Question 9. What is the difference between the __add__ and the __radd__ methods ?\n",
    "\n",
    "Ans: Entering __radd__ Python will first try __add__(), and if that returns Not Implemented Python will check if the right-hand operand implements __radd__, and if it does, it will call __radd__() rather than raising a TypeError"
   ]
  },
  {
   "cell_type": "code",
   "execution_count": null,
   "id": "8f679b52",
   "metadata": {},
   "outputs": [],
   "source": [
    "Question 10. When is it necessary to use a reflection method? When do you not need it, even though you support the operation in question?\n",
    "\n",
    "Ans: Reflection method we often encounter the requirement that a method in the executing object, or a variable in the calling object, or a field of the object should be assigned, while the method name or field name can not be determined when encoding the code, and need to be input in the form of passing strings through parameters."
   ]
  },
  {
   "cell_type": "code",
   "execution_count": null,
   "id": "bc94fe1a",
   "metadata": {},
   "outputs": [],
   "source": [
    "Question 11. What is the __iadd__ method called?\n",
    "\n",
    "Ans: __iadd__ method is called when we use implementation like a+=b which is a.__iadd__(b)"
   ]
  },
  {
   "cell_type": "code",
   "execution_count": null,
   "id": "86b5df57",
   "metadata": {},
   "outputs": [],
   "source": [
    "Question 12. Is the _ _init_ _ method inherited by subclasses? What do you do if you need to customize its behavior within a subclass ?\n",
    "\n",
    "Ans: Yes, __init__ method will be inherited by subclasses. if we want to customize its behaviour within a subclass we can use super() method."
   ]
  }
 ],
 "metadata": {
  "kernelspec": {
   "display_name": "Python 3 (ipykernel)",
   "language": "python",
   "name": "python3"
  },
  "language_info": {
   "codemirror_mode": {
    "name": "ipython",
    "version": 3
   },
   "file_extension": ".py",
   "mimetype": "text/x-python",
   "name": "python",
   "nbconvert_exporter": "python",
   "pygments_lexer": "ipython3",
   "version": "3.9.12"
  }
 },
 "nbformat": 4,
 "nbformat_minor": 5
}
