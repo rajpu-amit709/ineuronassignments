{
 "cells": [
  {
   "cell_type": "code",
   "execution_count": 1,
   "id": "e940096b",
   "metadata": {},
   "outputs": [
    {
     "ename": "SyntaxError",
     "evalue": "invalid syntax (1670212627.py, line 1)",
     "output_type": "error",
     "traceback": [
      "\u001b[1;36m  Input \u001b[1;32mIn [1]\u001b[1;36m\u001b[0m\n\u001b[1;33m    Q1. In the below elements which of them are values or an expression? eg:- values can be integer or string and expressions will be mathematical operators.\u001b[0m\n\u001b[1;37m           ^\u001b[0m\n\u001b[1;31mSyntaxError\u001b[0m\u001b[1;31m:\u001b[0m invalid syntax\n"
     ]
    }
   ],
   "source": [
    "Q1. In the below elements which of them are values or an expression? eg:- values can be integer or string and expressions will be mathematical operators.\n",
    "*,'hello', -87.8,-,/,+,6\n",
    "\n",
    "Ans: There are a total of 4 Operators and 3 Expressions, They are:\n",
    "Operators: *,-,/,+\n",
    "Expressions: 'hello', 87.8, 6\n",
    "\n",
    "Q2. What is the difference between string and variable?\n",
    "Ans: A Variable is used to store of information, and a String is a type of information you would store in a Variable. A String is a group of characters or a single character usually enclosed in Double quotes \" \" or single quotes ' '\n",
    "\n",
    "Q3. Describe three different Data Types ?\n",
    "Ans: Three fundamental Data types in python are int, float, complex.\n",
    "\n",
    "int data type: We can use int data type to represent whole numbers (integral values)\n",
    "float data type: We can use float data type to represent floating point values (decimal values)\n",
    "complex data type: Complex number is represented by complex class. It is specified as (real part) + (imaginary part)j.\n",
    "\n",
    "int_num=23211        # Example for int data type\n",
    "print(int_num, type(int_num))\n",
    "\n",
    "flo_num=32.22       # Example for float data type\n",
    "print(flo_num, type(flo_num))\n",
    "\n",
    "\n",
    "com_num=12+4j      # Example for Complex data type\n",
    "print(com_num, type(com_num))\n",
    "\n",
    "\n",
    "\n",
    "Q4. What is an expression made up of? What do all expressions do?\n",
    "Ans: Combination of values, variables, operators, and calls to functions is known as expression. Expressions need to be evaluated. If we ask Python to print an expression, the interpreter evaluates the expression and displays the result.\n",
    "\n",
    "12*9+50-20         # Is an Expression \n",
    "\n",
    "\n",
    "Q5.This assignment statements, like spam = 10. What is the difference between an expression and a statement?\n",
    "Ans: An expression is a combination of values, variables, and operators.When we type an expression at the prompt, the interpreter evaluates it, which means that it finds the value of the expression.\n",
    "\n",
    "eg: 12*9+50-20 \n",
    "\n",
    "A statement is a unit of code that has an effect, like creating a variable or displaying a value.When we type a statement, the interpreter executes it, which means that it does whatever the statement says. In general, statements don’t have values.\n",
    "\n",
    "eg: variable declaration and assignment are statements because they do not return a value\n",
    "\n",
    "#Example:\n",
    "4*5+20-40 # Is a Expression\n",
    "courseName = 'INeuron FullStack DataScience' # Is a Statement\n",
    "print(\"Hello World !\") # Is a Expression Statement\n",
    "Hello World !\n",
    "\n",
    "Q6.After running the following code, what does the variable bacon contain?\n",
    "bacon = 22\n",
    "bacon + 1\n",
    "\n",
    "Ans: The variable bacon is set to 22 .The expression bacon + 1 does not reassign the value in bacon (that would the case if the expression is like bacon = bacon + 1 instead of bacon + 1)\n",
    "\n",
    "\n",
    "Q7.What should the values of the following two terms be?\n",
    "'spam'+'spamspam'\n",
    "'spam'*3\n",
    "\n",
    "Ans: Both expressions evaluate to the string 'spamspamspam' Where as the first expression is String Concatentation and the second expression is String Multiplication.\n",
    "\n",
    "print('spam'+'spamspam') # string concatenation\n",
    "print('spam'*3) # string multiplication\n",
    "spamspamspam\n",
    "spamspamspam\n",
    "\n",
    "Q8. Why is eggs a valid variable name while 100 is invalid?\n",
    "Ans: As per python,Variable names cannot begin with a number. The python rules for naming a variable are :-\n",
    "\n",
    "Variable name must start with a letter or the underscore character.\n",
    "Variable name cannot start with a number.\n",
    "Variable name can only contain alpha-numeric characters and underscores (A-z, 0-9, & _ ).\n",
    "Variable names are case-sensitive (name, INEURON and ineuron are three different variables).\n",
    "The reserved words(keywords) cannot be used naming the variable.\n",
    "egg='Ineuron'          # Valid variable Initilization\n",
    "100='hello'            # Invalid Variable Initilization\n",
    "print(egg)             # prints the value of egg ie Ineuron\n",
    "print(100)             # Raises a Syntax Error as 100 is not a valid variable name\n",
    "  \n",
    "\n",
    "    \n",
    "Q9.What three functions can be used to get the integer,floating-point number,or string version of a value?\n",
    "Ans: The int(),float(),and str() functions will evaluate to the integer,floating-point number,string version of the value passed to them.\n",
    "\n",
    "# Examples:\n",
    "print('int(10.0) -> ',int(10.0)) # int() function converts given input to int\n",
    "print('float(10) -> ',float(10)) # float() function converts given input to float\n",
    "print('str(10) -> ',str(10)) # str() function converts given input to string\n",
    "int(10.0) ->  10\n",
    "float(10) ->  10.0\n",
    "str(10) ->  10\n",
    "10.Why does this expression cause an error? how can you fix it?\n",
    "'I have eaten ' + 99 + 'burritos.'\n",
    "\n",
    "Ans: This cause of error is 99.because 99 is not a string. 99 must be typecasted to a string to fix this error. the correct way is:\n",
    "Input: 'I have eaten ' + str(99) + 'burritos.'\n",
    "Output: 'I have eaten 99 burritos.'\n",
    "\n",
    "print('I have eaten '+str(99)+' burritos')\n",
    "I have eaten 99 burritos"
   ]
  },
  {
   "cell_type": "code",
   "execution_count": 3,
   "id": "e572b8e4",
   "metadata": {},
   "outputs": [
    {
     "data": {
      "text/plain": [
       "'C:\\\\Users\\\\Amit Rajput'"
      ]
     },
     "execution_count": 3,
     "metadata": {},
     "output_type": "execute_result"
    }
   ],
   "source": [
    "pwd()"
   ]
  }
 ],
 "metadata": {
  "kernelspec": {
   "display_name": "Python 3 (ipykernel)",
   "language": "python",
   "name": "python3"
  },
  "language_info": {
   "codemirror_mode": {
    "name": "ipython",
    "version": 3
   },
   "file_extension": ".py",
   "mimetype": "text/x-python",
   "name": "python",
   "nbconvert_exporter": "python",
   "pygments_lexer": "ipython3",
   "version": "3.9.12"
  }
 },
 "nbformat": 4,
 "nbformat_minor": 5
}
