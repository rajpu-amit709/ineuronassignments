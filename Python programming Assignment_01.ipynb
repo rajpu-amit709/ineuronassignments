{
 "cells": [
  {
   "cell_type": "code",
   "execution_count": null,
   "id": "06436a00",
   "metadata": {},
   "outputs": [],
   "source": [
    "Question 1. Write a Python program to print \"Hello Python\"?"
   ]
  },
  {
   "cell_type": "code",
   "execution_count": 26,
   "id": "90bd3659",
   "metadata": {},
   "outputs": [
    {
     "name": "stdout",
     "output_type": "stream",
     "text": [
      "hello python \n"
     ]
    }
   ],
   "source": [
    "a=('hello python ')\n",
    "print(a)"
   ]
  },
  {
   "cell_type": "code",
   "execution_count": null,
   "id": "643b713b",
   "metadata": {},
   "outputs": [],
   "source": [
    "Question 2.Write a Python program to do arithmetical operations addition and division.?"
   ]
  },
  {
   "cell_type": "code",
   "execution_count": 13,
   "id": "70104c78",
   "metadata": {},
   "outputs": [
    {
     "name": "stdout",
     "output_type": "stream",
     "text": [
      "264\n"
     ]
    }
   ],
   "source": [
    "a=12\n",
    "b=22\n",
    "print(a*b)"
   ]
  },
  {
   "cell_type": "code",
   "execution_count": null,
   "id": "fbc336fe",
   "metadata": {},
   "outputs": [],
   "source": [
    "Question 3.Write a Python program to find the area of a triangle?"
   ]
  },
  {
   "cell_type": "code",
   "execution_count": 15,
   "id": "fae30c30",
   "metadata": {
    "scrolled": true
   },
   "outputs": [
    {
     "name": "stdout",
     "output_type": "stream",
     "text": [
      "0.6666666666666666\n"
     ]
    }
   ],
   "source": [
    "a=22\n",
    "b=33\n",
    "print(a/b)"
   ]
  },
  {
   "cell_type": "code",
   "execution_count": null,
   "id": "52d7205d",
   "metadata": {},
   "outputs": [],
   "source": [
    "Question 3.Write a Python program to find the area of a triangle?"
   ]
  },
  {
   "cell_type": "code",
   "execution_count": 6,
   "id": "bcf39149",
   "metadata": {},
   "outputs": [
    {
     "name": "stdout",
     "output_type": "stream",
     "text": [
      "please enter the height = 22\n",
      "please enter the baase = 11\n",
      "121.0 cm2\n"
     ]
    }
   ],
   "source": [
    "h=int(input(\"please enter the height = \" ))\n",
    "b=int(input(\"please enter the baase = \"))\n",
    "print(1/2*h*b,\"cm2\")"
   ]
  },
  {
   "cell_type": "code",
   "execution_count": null,
   "id": "7a3b2274",
   "metadata": {},
   "outputs": [],
   "source": [
    "Question 4.Write a Python program to swap two variables?"
   ]
  },
  {
   "cell_type": "code",
   "execution_count": 24,
   "id": "6a0fa091",
   "metadata": {},
   "outputs": [
    {
     "name": "stdout",
     "output_type": "stream",
     "text": [
      "the value of x after swapping:22\n",
      "the value of y after swapping:90\n"
     ]
    }
   ],
   "source": [
    "x = 90\n",
    "y = 22\n",
    "x = y\n",
    "y=temp\n",
    "\n",
    "print('the value of x after swapping:{}'.format(x))\n",
    "print('the value of y after swapping:{}'.format(y))"
   ]
  },
  {
   "cell_type": "code",
   "execution_count": null,
   "id": "40c3c9c1",
   "metadata": {},
   "outputs": [],
   "source": [
    "5. Write a Python program to generate a random number?"
   ]
  },
  {
   "cell_type": "code",
   "execution_count": 45,
   "id": "fa1c6e55",
   "metadata": {},
   "outputs": [
    {
     "name": "stdout",
     "output_type": "stream",
     "text": [
      "48\n"
     ]
    }
   ],
   "source": [
    "import random\n",
    "\n",
    "print(random.randint(0,100))"
   ]
  }
 ],
 "metadata": {
  "kernelspec": {
   "display_name": "Python 3 (ipykernel)",
   "language": "python",
   "name": "python3"
  },
  "language_info": {
   "codemirror_mode": {
    "name": "ipython",
    "version": 3
   },
   "file_extension": ".py",
   "mimetype": "text/x-python",
   "name": "python",
   "nbconvert_exporter": "python",
   "pygments_lexer": "ipython3",
   "version": "3.9.12"
  }
 },
 "nbformat": 4,
 "nbformat_minor": 5
}
