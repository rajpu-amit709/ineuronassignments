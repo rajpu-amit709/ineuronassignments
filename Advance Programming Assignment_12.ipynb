{
 "cells": [
  {
   "cell_type": "code",
   "execution_count": null,
   "id": "2663abb6",
   "metadata": {},
   "outputs": [],
   "source": [
    "Question 1. For this challenge, forget how to add two numbers together. The best explanation on what to do for this function is this meme:\n",
    "image.png\n",
    "\n",
    "Examples:\n",
    "meme_sum(26, 39) ➞ 515\n",
    "# 2+3 = 5, 6+9 = 15\n",
    "# 26 + 39 = 515\n",
    "meme_sum(122, 81) ➞ 1103\n",
    "# 1+0 = 1, 2+8 = 10, 2+1 = 3\n",
    "# 122 + 81 = 1103\n",
    "meme_sum(1222, 30277) ➞ 31499"
   ]
  },
  {
   "cell_type": "code",
   "execution_count": 6,
   "id": "120f7005",
   "metadata": {},
   "outputs": [
    {
     "name": "stdout",
     "output_type": "stream",
     "text": [
      "meme_sum('26', '39') ➞ 515\n",
      "meme_sum('122', '081') ➞ 1103\n",
      "meme_sum('01222', '30277') ➞ 31499\n"
     ]
    }
   ],
   "source": [
    "def meme_sum(a,b):\n",
    "    a,b = str(a),str(b)\n",
    "    output = ''\n",
    "    while len(a) != len(b):\n",
    "        if len(a) < len(b):\n",
    "            a ='0'+a\n",
    "        else:\n",
    "            b='0'+b\n",
    "    for ele in range(len(a)):\n",
    "        output += str(int(a[ele])+int(b[ele]))\n",
    "    print(f'meme_sum{a,b} ➞ {output}')\n",
    "       \n",
    "meme_sum(26, 39)\n",
    "meme_sum(122, 81)\n",
    "meme_sum(1222, 30277) "
   ]
  },
  {
   "cell_type": "code",
   "execution_count": null,
   "id": "0c66a873",
   "metadata": {},
   "outputs": [],
   "source": [
    "Question 2. Given an integer, create a function that returns the next prime. If the number is prime, return the number itself.\n",
    "Examples:\n",
    "next_prime(12) ➞ 13\n",
    "next_prime(24) ➞ 29\n",
    "next_prime(11) ➞ 11\n",
    "# 11 is a prime, so we return the number itself."
   ]
  },
  {
   "cell_type": "code",
   "execution_count": 5,
   "id": "b3e8574d",
   "metadata": {},
   "outputs": [
    {
     "name": "stdout",
     "output_type": "stream",
     "text": [
      "next_prine(12) ➞ 13\n",
      "next_prine(24) ➞ 29\n",
      "next_prine(11) ➞ 11\n"
     ]
    }
   ],
   "source": [
    "def next_prime(in_num):\n",
    "    in_num_clone = in_num\n",
    "    while True:\n",
    "        if (in_num-1)%6 == 0 or (in_num+1)%6 ==0 :\n",
    "            temp = in_num\n",
    "            for ele in range(3,in_num+1):\n",
    "                if in_num%ele == 0 and ele != in_num:\n",
    "                    in_num = in_num+1\n",
    "                    break\n",
    "            if temp == in_num:\n",
    "                break\n",
    "        else:\n",
    "            in_num += 1\n",
    "    \n",
    "    print(f'next_prine({in_num_clone}) ➞ {in_num}')\n",
    "        \n",
    "next_prime(12)\n",
    "next_prime(24)\n",
    "next_prime(11)"
   ]
  },
  {
   "cell_type": "code",
   "execution_count": null,
   "id": "98738da4",
   "metadata": {},
   "outputs": [],
   "source": [
    "Question 3. If a person traveled up a hill for 18mins at 20mph and then traveled back down the same path at 60mph then their average speed traveled was 30mph.\n",
    "Write a function that returns the average speed traveled given an uphill time, uphill rate and a downhill rate. Uphill time is given in minutes. Return the rate as an integer (mph). No rounding is necessary.\n",
    "\n",
    "Examples:\n",
    "ave_spd(18, 20, 60) ➞ 30\n",
    "ave_spd(30, 10, 30) ➞ 15\n",
    "ave_spd(30, 8, 24) ➞ 12"
   ]
  },
  {
   "cell_type": "code",
   "execution_count": 4,
   "id": "94824c43",
   "metadata": {},
   "outputs": [
    {
     "name": "stdout",
     "output_type": "stream",
     "text": [
      "ave_spd(18, 20, 60) ➞ 30\n",
      "ave_spd(30, 10, 30) ➞ 15\n",
      "ave_spd(30, 8, 24) ➞ 12\n"
     ]
    }
   ],
   "source": [
    "def ave_spd(up_time,up_speed,down_speed):\n",
    "    distance = up_speed*(up_time/60)\n",
    "    down_time = distance/down_speed\n",
    "    output = (2*distance)/((up_time/60)+down_time)\n",
    "    print(f'ave_spd{up_time,up_speed,down_speed} ➞ {int(output)}')\n",
    "    \n",
    "ave_spd(18, 20, 60)\n",
    "ave_spd(30, 10, 30)\n",
    "ave_spd(30, 8, 24)"
   ]
  },
  {
   "cell_type": "code",
   "execution_count": null,
   "id": "82de60bb",
   "metadata": {},
   "outputs": [],
   "source": [
    "Question 4. The Kempner Function, applied to a composite number, permits to find the smallest integer greater than zero whose factorial is exactly divided by the number.\n",
    "kempner(6) ➞ 3\n",
    "1! = 1 % 6 > 0\n",
    "2! = 2 % 6 > 0\n",
    "3! = 6 % 6 === 0\n",
    "\n",
    "kempner(10) ➞ 5\n",
    "1! = 1 % 10 > 0\n",
    "2! = 2 % 10 > 0\n",
    "3! = 6 % 10 > 0\n",
    "4! = 24 % 10 > 0\n",
    "5! = 120 % 10 === 0\n",
    "\n",
    "A Kempner Function applied to a prime will always return the prime itself.\n",
    "kempner(2) ➞ 2\n",
    "kempner(5) ➞ 5\n",
    "\n",
    "Given an integer n, implement a Kempner Function.\n",
    "\n",
    "Examples:\n",
    "kempner(6) ➞ 3\n",
    "kempner(10) ➞ 5\n",
    "kempner(2) ➞ 2"
   ]
  },
  {
   "cell_type": "code",
   "execution_count": 3,
   "id": "67432a61",
   "metadata": {},
   "outputs": [
    {
     "name": "stdout",
     "output_type": "stream",
     "text": [
      "kempner(6) ➞ 3\n",
      "kempner(10) ➞ 5\n",
      "kempner(5) ➞ 5\n",
      "kempner(2) ➞ 2\n"
     ]
    }
   ],
   "source": [
    "def kempner(in_num):\n",
    "    def factorial(in_num):\n",
    "        if in_num == 1:\n",
    "            return 1\n",
    "        else:\n",
    "            return in_num * factorial(in_num-1)\n",
    "    for ele in range(1,in_num+1):\n",
    "        if factorial(ele)%in_num == 0:\n",
    "            output = ele\n",
    "            break\n",
    "    print(f'kempner({in_num}) ➞ {output}')\n",
    "            \n",
    "kempner(6)\n",
    "kempner(10)\n",
    "kempner(5)\n",
    "kempner(2)"
   ]
  },
  {
   "cell_type": "code",
   "execution_count": null,
   "id": "ec349ee6",
   "metadata": {},
   "outputs": [],
   "source": [
    "Question 5. You work in a factory, and your job is to take items from a conveyor belt and pack them into boxes. Each box can hold a maximum of 10 kgs. Given a list containing the weight (in kg) of each item, how many boxes would you need to pack all of the items?\n",
    "Examples:\n",
    "boxes([2, 1, 2, 5, 4, 3, 6, 1, 1, 9, 3, 2]) ➞ 5\n",
    "# Box 1 = [2, 1, 2, 5] (10kg)\n",
    "# Box 2 = [4, 3] (7kg)\n",
    "# Box 3 = [6, 1, 1] (8kg)\n",
    "# Box 4 = [9] (9kg)\n",
    "# Box 5 = [3, 2] (5kg)"
   ]
  },
  {
   "cell_type": "code",
   "execution_count": 2,
   "id": "784ebeea",
   "metadata": {},
   "outputs": [
    {
     "name": "stdout",
     "output_type": "stream",
     "text": [
      "boxes([2, 1, 2, 5, 4, 3, 6, 1, 1, 9, 3, 2]) ➞ [[2, 1, 2, 5], [4, 3], [6, 1, 1], [9], [3, 2]] ➞ 5\n",
      "boxes([5, 5, 5, 5, 5, 5, 2, 3, 4, 5, 6]) ➞ [[5, 5], [5, 5], [5, 5], [2, 3, 4], [5, 6]] ➞ 5\n"
     ]
    }
   ],
   "source": [
    "def boxes(in_list):\n",
    "    in_list_clone = in_list.copy()\n",
    "    output = []\n",
    "    temp_box = []\n",
    "    while True:\n",
    "        if len(in_list) != 0:\n",
    "            if sum(temp_box) <= 10:\n",
    "                temp_box.append(in_list.pop(0))\n",
    "            else:\n",
    "                in_list.insert(0,temp_box.pop())\n",
    "                output.append(temp_box)\n",
    "                temp_box = []\n",
    "        else:\n",
    "            output.append(temp_box)\n",
    "            temp_box = []\n",
    "            break\n",
    "    print(f'boxes({in_list_clone}) ➞ {output} ➞ {len(output)}')    \n",
    "    \n",
    "boxes([2, 1, 2, 5, 4, 3, 6, 1, 1, 9, 3, 2])\n",
    "boxes([5, 5, 5, 5, 5, 5, 2, 3, 4, 5, 6])"
   ]
  }
 ],
 "metadata": {
  "kernelspec": {
   "display_name": "Python 3 (ipykernel)",
   "language": "python",
   "name": "python3"
  },
  "language_info": {
   "codemirror_mode": {
    "name": "ipython",
    "version": 3
   },
   "file_extension": ".py",
   "mimetype": "text/x-python",
   "name": "python",
   "nbconvert_exporter": "python",
   "pygments_lexer": "ipython3",
   "version": "3.9.12"
  }
 },
 "nbformat": 4,
 "nbformat_minor": 5
}
