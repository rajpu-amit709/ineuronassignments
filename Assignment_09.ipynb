{
 "cells": [
  {
   "cell_type": "code",
   "execution_count": null,
   "id": "4cce7d71",
   "metadata": {},
   "outputs": [],
   "source": [
    "Question 1.To what does a relative path refer ?\n",
    "\n",
    "Ans: The relative path is the path to some file with respect to your current working directory (PWD).\n",
    "For example: if Absolute path to a file called stuff.txt is: C:/users/admin/docs/stuff.txt If my PWD is C:/users/admin/ , then the relative path to stuff.txt would be: docs/stuff.txt\n",
    "Note: PWD + relative path = absolute path"
   ]
  },
  {
   "cell_type": "code",
   "execution_count": null,
   "id": "0d926ba5",
   "metadata": {},
   "outputs": [],
   "source": [
    "Question 2.Where does an absolute path start with your Operating System ?\n",
    "\n",
    "Ans: In Linux based systems the absolute path starts with /. Where as in Windows based systems absolute path starts with C:"
   ]
  },
  {
   "cell_type": "code",
   "execution_count": null,
   "id": "1c69d301",
   "metadata": {},
   "outputs": [],
   "source": [
    "Question 3.What does the functions os.getcwd() and os.chdir() do ?\n",
    "\n",
    "Ans: os.getcwd() method tells us the location of current working directory (CWD). Whereas os.chdir() method in Python used to change the current working directory to specified path. These functions are similar to linux commands pwd and cd"
   ]
  },
  {
   "cell_type": "code",
   "execution_count": 3,
   "id": "ecf62082",
   "metadata": {},
   "outputs": [
    {
     "name": "stdout",
     "output_type": "stream",
     "text": [
      "C:\\Users\\Amit Rajput\n",
      "C:\\Users\\Amit Rajput\\Documents\n"
     ]
    }
   ],
   "source": [
    "import os\n",
    "print(os.getcwd()) # Prints the current Working Directory\n",
    "path = r'C:\\Users\\Amit Rajput\\Documents'\n",
    "os.chdir(path)\n",
    "print(os.getcwd())"
   ]
  },
  {
   "cell_type": "code",
   "execution_count": null,
   "id": "c1613906",
   "metadata": {},
   "outputs": [],
   "source": [
    "Question 4.What are . and .. folders ?\n",
    "\n",
    "Ans: . Represents the Current Directory Whereas .. Represents the Parent Directory of the Current Directory\n",
    "    \n",
    "For Example: if the below path is my absolute path:\n",
    "        \n",
    "C:\\\\Users\\\\Amit\\\\Downloads\\\\Assignments\\\\Python\n",
    "Then . represents the path C:\\\\Users\\\\Amit\\\\Download\\\\Assignments\\\\Python\n",
    "Where as .. represents the path C:\\\\Users\\\\Amit\\\\Download\\\\Assignments"
   ]
  },
  {
   "cell_type": "code",
   "execution_count": null,
   "id": "ad222467",
   "metadata": {},
   "outputs": [],
   "source": [
    "Question 5.In C:\\bacon\\eggs\\spam.txt which part is the dir name and which part is the base name ?\n",
    "Ans: For C:\\bacon\\eggs\\spam.txt\n",
    "The dir name is C:\\\\bacon\\\\eggs\n",
    "The Base name is spam.txt"
   ]
  },
  {
   "cell_type": "code",
   "execution_count": 1,
   "id": "77b69e12",
   "metadata": {},
   "outputs": [
    {
     "name": "stdout",
     "output_type": "stream",
     "text": [
      "C:\\bacon\\eggs\n",
      "spam.txt\n"
     ]
    }
   ],
   "source": [
    "import os\n",
    "path = r'C:\\bacon\\eggs\\spam.txt'\n",
    "print(os.path.dirname(path))\n",
    "print(os.path.basename(path))"
   ]
  },
  {
   "cell_type": "code",
   "execution_count": null,
   "id": "c19c8760",
   "metadata": {},
   "outputs": [],
   "source": [
    "Question 6.What are the three mode arguments that can be passed to the open() function ?\n",
    "\n",
    "Ans: A file can be Accessed in python using open() function. open function takes two arguments filename and mode of operation (optional). if mode is not provided the default mode of opening is read mode\n",
    "So, the syntax being: open(filename, mode)\n",
    "\n",
    "‘r’ – Read Mode: This is the default mode for open(). The file is opened and a pointer is positioned at the beginning of the file’s content.\n",
    "‘w’ – Write Mode: Using this mode will overwrite any existing content in a file. If the given file does not exist, a new one will be created.\n",
    "‘r+’ – Read/Write Mode: Use this mode if you need to simultaneously read and write to a file.\n",
    "‘a’ – Append Mode: With this mode the user can append the data without overwriting any already existing data in the file.\n",
    "‘a+’ – Append and Read Mode: In this mode you can read and append the data without overwriting the original file.\n",
    "‘x’ – Exclusive Creating Mode: This mode is for the sole purpose of creating new files. Use this mode if you know the file to be written doesn’t exist beforehand.\n"
   ]
  },
  {
   "cell_type": "code",
   "execution_count": null,
   "id": "a1572aa8",
   "metadata": {},
   "outputs": [],
   "source": [
    "Question 7.What happens if an existing file is opened in write mode ?\n",
    "\n",
    "Ans: Using this mode will overwrite any existing content in a file. If the given file does not exist, a new one will be created."
   ]
  },
  {
   "cell_type": "code",
   "execution_count": null,
   "id": "1954bb33",
   "metadata": {},
   "outputs": [],
   "source": [
    "Question 8.How do you tell the difference between read() and readlines() ?\n",
    "\n",
    "Ans: The main difference is that read() will read the whole file at once and then print out the first characters that take up as many bytes as you specify in the parenthesis\n",
    "\n",
    "Whereas the readline() that will read and print out only the first characters that take up as many bytes as you specify in the parenthesis. You may want to use readline() when you're reading files that are too big for your RAM.\n",
    "The read() would treat each character in the file separately, meaning that the iteration would happen for every character.\n",
    "The readline() function, on the other hand, only reads a single line of the file. This means that if the first line of the file were three lines long, the readline() function would only parse (or iterate/operate) on the first line of the file."
   ]
  },
  {
   "cell_type": "code",
   "execution_count": null,
   "id": "8bfa5f41",
   "metadata": {},
   "outputs": [],
   "source": [
    "Question 9.What data structure does a shelf value resemble ?\n",
    "\n",
    "Ans: It contains key and values it represents dictionary."
   ]
  }
 ],
 "metadata": {
  "kernelspec": {
   "display_name": "Python 3 (ipykernel)",
   "language": "python",
   "name": "python3"
  },
  "language_info": {
   "codemirror_mode": {
    "name": "ipython",
    "version": 3
   },
   "file_extension": ".py",
   "mimetype": "text/x-python",
   "name": "python",
   "nbconvert_exporter": "python",
   "pygments_lexer": "ipython3",
   "version": "3.9.12"
  }
 },
 "nbformat": 4,
 "nbformat_minor": 5
}
