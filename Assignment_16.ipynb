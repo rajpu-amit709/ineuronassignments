{
 "cells": [
  {
   "cell_type": "code",
   "execution_count": null,
   "id": "8fbfa084",
   "metadata": {},
   "outputs": [],
   "source": [
    "Question 1. Create a list called years_list, starting with the year of your birth, and each year thereafter until the year of your fifth birthday. For example, if you were born in 1980. the list would be years_list = [1980, 1981, 1982, 1983, 1984, 1985]."
   ]
  },
  {
   "cell_type": "code",
   "execution_count": 31,
   "id": "9828f9a8",
   "metadata": {},
   "outputs": [
    {
     "name": "stdout",
     "output_type": "stream",
     "text": [
      "[1980, 1981, 1982, 1983, 1984, 1985]\n"
     ]
    }
   ],
   "source": [
    "#Solution:=\n",
    "years_list = [i for i in range(1980,1980+6)]\n",
    "print(years_list)"
   ]
  },
  {
   "cell_type": "code",
   "execution_count": null,
   "id": "2f619eff",
   "metadata": {},
   "outputs": [],
   "source": [
    "Question 2. In which year in years_list was your third birthday? Remember, you were 0 years of age for your first year."
   ]
  },
  {
   "cell_type": "code",
   "execution_count": null,
   "id": "4df65732",
   "metadata": {},
   "outputs": [],
   "source": [
    "print(years_list[3])"
   ]
  },
  {
   "cell_type": "code",
   "execution_count": null,
   "id": "bac337ef",
   "metadata": {},
   "outputs": [],
   "source": [
    "Question 3.In the years list, which year were you the oldest?"
   ]
  },
  {
   "cell_type": "code",
   "execution_count": null,
   "id": "b8f2ebb8",
   "metadata": {},
   "outputs": [],
   "source": [
    "#Solution:-\n",
    "print(years_list[-1])"
   ]
  },
  {
   "cell_type": "code",
   "execution_count": null,
   "id": "fd4c62c8",
   "metadata": {},
   "outputs": [],
   "source": [
    "Question 4. Make a list called things with these three strings as elements: \"mozzarella\", \"cinderella\", \"salmonella\"."
   ]
  },
  {
   "cell_type": "code",
   "execution_count": null,
   "id": "e1619392",
   "metadata": {},
   "outputs": [],
   "source": [
    "#Solution :-\n",
    "things = [ele+'ella' for ele in ['mozzar','cinder','salmon']]\n",
    "print(things)"
   ]
  },
  {
   "cell_type": "code",
   "execution_count": null,
   "id": "590a1826",
   "metadata": {},
   "outputs": [],
   "source": [
    "Question 5. Capitalize the element in things that refers to a person and then print the list. Did it change the element in the list?"
   ]
  },
  {
   "cell_type": "code",
   "execution_count": null,
   "id": "c3212135",
   "metadata": {},
   "outputs": [],
   "source": [
    "#Solution \n",
    "for i in range(len(things)):\n",
    "    if things[i] == 'cinderella':\n",
    "        things[i] = things[i].capitalize()\n",
    "print(things)"
   ]
  },
  {
   "cell_type": "code",
   "execution_count": null,
   "id": "99b54043",
   "metadata": {},
   "outputs": [],
   "source": [
    "Question 6. Make a surprise list with the elements \"Groucho,\" \"Chico,\" and \"Harpo.\""
   ]
  },
  {
   "cell_type": "code",
   "execution_count": null,
   "id": "1b3d7b67",
   "metadata": {},
   "outputs": [],
   "source": [
    "#Solution:-\n",
    "suprise_list = ['Groucho','Chico','Harpo']\n",
    "print(suprise_list)\n",
    "['Groucho', 'Chico', 'Harpo']"
   ]
  },
  {
   "cell_type": "code",
   "execution_count": null,
   "id": "c98ab260",
   "metadata": {},
   "outputs": [],
   "source": [
    "Question 7. Lowercase the last element of the surprise list, reverse it, and then capitalize it."
   ]
  },
  {
   "cell_type": "code",
   "execution_count": null,
   "id": "e9f23f2a",
   "metadata": {},
   "outputs": [],
   "source": [
    "#Solution:-\n",
    "print(suprise_list[-1].lower()[::-1].capitalize())\n",
    "Oprah"
   ]
  },
  {
   "cell_type": "code",
   "execution_count": null,
   "id": "6c04daf7",
   "metadata": {},
   "outputs": [],
   "source": [
    "Question 8. Make an English-to-French dictionary called e2f and print it. Here are your starter words: dog is chien, cat is chat, and walrus is morse."
   ]
  },
  {
   "cell_type": "code",
   "execution_count": null,
   "id": "6012708e",
   "metadata": {},
   "outputs": [],
   "source": [
    "#Solution:-\n",
    "e2f = {'dog':'chien','cat':'chat','walrus':'morse'}\n",
    "print(e2f)\n",
    "{'dog': 'chien', 'cat': 'chat', 'walrus': 'morse'}"
   ]
  },
  {
   "cell_type": "code",
   "execution_count": null,
   "id": "45bd8525",
   "metadata": {},
   "outputs": [],
   "source": [
    "Question 9. Write the French word for walrus in your three-word dictionary e2f."
   ]
  },
  {
   "cell_type": "code",
   "execution_count": null,
   "id": "c97cbdcd",
   "metadata": {},
   "outputs": [],
   "source": [
    "#Solution:-\n",
    "print(e2f.get('walrus'))\n",
    "morse"
   ]
  },
  {
   "cell_type": "code",
   "execution_count": null,
   "id": "2a07b860",
   "metadata": {},
   "outputs": [],
   "source": [
    "Question 10. Make a French-to-English dictionary called f2e from e2f. Use the items method."
   ]
  },
  {
   "cell_type": "code",
   "execution_count": null,
   "id": "4129d35c",
   "metadata": {},
   "outputs": [],
   "source": [
    "#Solution:-\n",
    "f2e = dict([ele[::-1] for ele in e2f.items()])\n",
    "print(f2e)\n",
    "{'chien': 'dog', 'chat': 'cat', 'morse': 'walrus'}"
   ]
  },
  {
   "cell_type": "code",
   "execution_count": null,
   "id": "7a6460af",
   "metadata": {},
   "outputs": [],
   "source": [
    "Question 11. Print the English version of the French word chien using f2e."
   ]
  },
  {
   "cell_type": "code",
   "execution_count": null,
   "id": "335b88ea",
   "metadata": {},
   "outputs": [],
   "source": [
    "#Solution:-\n",
    "print(f2e.get('chien'))\n",
    "dog"
   ]
  },
  {
   "cell_type": "code",
   "execution_count": null,
   "id": "9438847e",
   "metadata": {},
   "outputs": [],
   "source": [
    "Question 12. Make and print a set of English words from the keys in e2f."
   ]
  },
  {
   "cell_type": "code",
   "execution_count": null,
   "id": "794de8d4",
   "metadata": {},
   "outputs": [],
   "source": [
    "#Solution:-\n",
    "print(list(e2f.keys()))\n",
    "['dog', 'cat', 'walrus']"
   ]
  },
  {
   "cell_type": "code",
   "execution_count": null,
   "id": "dfd7f97c",
   "metadata": {},
   "outputs": [],
   "source": [
    "Question 13. Make a multilevel dictionary called life. Use these strings for the topmost keys: 'animals', 'plants', and 'other'. Make the 'animals' key refer to another dictionary with the keys 'cats', 'octopi', and 'emus'. Make the 'cats' key refer to a list of strings with the values 'Henri', 'Grumpy', and 'Lucy'. Make all the other keys refer to empty dictionaries."
   ]
  },
  {
   "cell_type": "code",
   "execution_count": null,
   "id": "2a0f2121",
   "metadata": {},
   "outputs": [],
   "source": [
    "#solution:-\n",
    "life = {\n",
    "    'animals':{\n",
    "        'cats':['Henri','Grumpy','Lucy'],\n",
    "        'octopi':{},\n",
    "        'emus':{}\n",
    "    },\n",
    "    'plants':{},\n",
    "    'other':{}\n",
    "}\n",
    "print(life)\n",
    "{'animals': {'cats': ['Henri', 'Grumpy', 'Lucy'], 'octopi': {}, 'emus': {}}, 'plants': {}, 'other': {}}"
   ]
  },
  {
   "cell_type": "code",
   "execution_count": null,
   "id": "cf3d2547",
   "metadata": {},
   "outputs": [],
   "source": [
    "Question 14. Print the top-level keys of life."
   ]
  },
  {
   "cell_type": "code",
   "execution_count": null,
   "id": "960bb882",
   "metadata": {},
   "outputs": [],
   "source": [
    "#Solution:-\n",
    "print(list(life.keys()))\n",
    "['animals', 'plants', 'other']"
   ]
  },
  {
   "cell_type": "code",
   "execution_count": null,
   "id": "208a1a46",
   "metadata": {},
   "outputs": [],
   "source": [
    "Question 15. Print the keys for life['animals']."
   ]
  },
  {
   "cell_type": "code",
   "execution_count": null,
   "id": "7be150a5",
   "metadata": {},
   "outputs": [],
   "source": [
    "#Solution:-\n",
    "print(list(life['animals'].keys()))\n",
    "['cats', 'octopi', 'emus']"
   ]
  },
  {
   "cell_type": "code",
   "execution_count": null,
   "id": "e5642adb",
   "metadata": {},
   "outputs": [],
   "source": [
    "Question 16. Print the values for life['animals']['cats']"
   ]
  },
  {
   "cell_type": "code",
   "execution_count": null,
   "id": "1cc1ff4b",
   "metadata": {},
   "outputs": [],
   "source": [
    "#Solution:-\n",
    "print(life['animals']['cats'])\n",
    "['Henri', 'Grumpy', 'Lucy']"
   ]
  }
 ],
 "metadata": {
  "kernelspec": {
   "display_name": "Python 3 (ipykernel)",
   "language": "python",
   "name": "python3"
  },
  "language_info": {
   "codemirror_mode": {
    "name": "ipython",
    "version": 3
   },
   "file_extension": ".py",
   "mimetype": "text/x-python",
   "name": "python",
   "nbconvert_exporter": "python",
   "pygments_lexer": "ipython3",
   "version": "3.9.12"
  }
 },
 "nbformat": 4,
 "nbformat_minor": 5
}
