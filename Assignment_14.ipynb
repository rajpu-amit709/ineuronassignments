{
 "cells": [
  {
   "cell_type": "code",
   "execution_count": null,
   "id": "bafb24bf",
   "metadata": {},
   "outputs": [],
   "source": [
    "Question 1. What does RGBA stand for?\n",
    "\n",
    "Ans: RGBA is a four-channel format containing data for Red, Green, Blue, and an Alpha value. Where Alpha Represents the Opacity"
   ]
  },
  {
   "cell_type": "code",
   "execution_count": null,
   "id": "6cf28978",
   "metadata": {},
   "outputs": [],
   "source": [
    "Question 2. From the Pillow module, how do you get the RGBA value of any images?\n",
    "\n",
    "Ans: ImageColor.getcolor() gives rgba value of any image"
   ]
  },
  {
   "cell_type": "code",
   "execution_count": null,
   "id": "73a77ba8",
   "metadata": {},
   "outputs": [],
   "source": [
    "Question 3. What is a box tuple, and how does it work?\n",
    "\n",
    "Ans: A box tuple is a tuple value of four integers: the left-edge x-coordinate, the top-edge y-coordinate,the width, and the height, respectively.\n"
   ]
  },
  {
   "cell_type": "code",
   "execution_count": null,
   "id": "81e98d12",
   "metadata": {},
   "outputs": [],
   "source": [
    "Question 4. Use your image and load in notebook then, How can you find out the width and height of an Image object?"
   ]
  },
  {
   "cell_type": "code",
   "execution_count": null,
   "id": "22a25ed5",
   "metadata": {},
   "outputs": [],
   "source": [
    "from PIL import Image\n",
    "pic = Image.open('Pic.jpg')\n",
    "print(f'Width, Height -> {pic.size}') # Approach 1\n",
    "print(f'Width, Height -> {pic.width},{pic.height}') # Approach 2\n",
    "width,height = pic.size\n",
    "print(f'Width, Height -> {width},{height}') # Approach 3"
   ]
  },
  {
   "cell_type": "code",
   "execution_count": null,
   "id": "6757292d",
   "metadata": {},
   "outputs": [],
   "source": [
    "Question 5. What method would you call to get Image object for a 100×100 image, excluding the lower-left quarter of it?\n",
    "\n",
    "Ans:-\n",
    "from PIL import Image\n",
    "img = Image.open('Pic.jpg')\n",
    "new_img = img.crop((0,50,50,50))"
   ]
  },
  {
   "cell_type": "code",
   "execution_count": null,
   "id": "6ac3d121",
   "metadata": {},
   "outputs": [],
   "source": [
    "Question 6. After making changes to an Image object, how could you save it as an image file?\n",
    "\n",
    "Ans:-\n",
    "#Example Program\n",
    "from PIL import Image\n",
    "pic = Image.open('pic.jpg')\n",
    "pic.save('pic2.jpg')"
   ]
  },
  {
   "cell_type": "code",
   "execution_count": null,
   "id": "5678eedc",
   "metadata": {},
   "outputs": [],
   "source": [
    "Question 7. What module contains Pillow’s shape-drawing code?\n",
    "\n",
    "Ans: Pillows ImageDraw module contains Shape drawing methods"
   ]
  },
  {
   "cell_type": "code",
   "execution_count": null,
   "id": "7fa16a4d",
   "metadata": {},
   "outputs": [],
   "source": [
    "Question 8. Image objects do not have drawing methods. What kind of object does? How do you get this kind of object?\n",
    "\n",
    "Ans: ImageDraw objects have shape-drawing methods such as point(), line(), or rectangle().They are returned by passing the Image object to the ImageDraw.Draw() function."
   ]
  }
 ],
 "metadata": {
  "kernelspec": {
   "display_name": "Python 3 (ipykernel)",
   "language": "python",
   "name": "python3"
  },
  "language_info": {
   "codemirror_mode": {
    "name": "ipython",
    "version": 3
   },
   "file_extension": ".py",
   "mimetype": "text/x-python",
   "name": "python",
   "nbconvert_exporter": "python",
   "pygments_lexer": "ipython3",
   "version": "3.9.12"
  }
 },
 "nbformat": 4,
 "nbformat_minor": 5
}
