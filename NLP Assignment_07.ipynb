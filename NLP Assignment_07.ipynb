{
 "cells": [
  {
   "cell_type": "code",
   "execution_count": null,
   "id": "454c701f",
   "metadata": {},
   "outputs": [],
   "source": [
    "Question 1. Explain the architecture of BERT ?\n",
    "\n",
    "Ans: BERT is an open source machine learning framework for natural language processing (NLP). BERT is designed to help computers understand the meaning of ambiguous language in text by using surrounding text to establish context. The BERT framework was pre-trained using text from Wikipedia and can be fine-tuned with question and answer datasets.\n",
    "\n",
    "BERT, which stands for Bidirectional Encoder Representations from Transformers, is based on Transformers, a deep learning model in which every output element is connected to every input element, and the weightings between them are dynamically calculated based upon their connection.\n",
    "\n",
    "BERT is released in two sizes BERTBASE and BERTLARGE. The BASE model is used to measure the performance of the architecture comparable to another architecture and the LARGE model produces state-of-the-art results that were reported in the research paper.\n",
    "\n",
    "One of the main reasons for the good performance of BERT on different NLP tasks was the use of Semi-Supervised Learning. This means the model is trained for a specific task that enables it to understand the patterns of the language. After training the model (BERT) has language processing capabilities that can be used to empower other models that we build and train using supervised learning.\n",
    "\n",
    "BERT is basically an Encoder stack of transformer architecture. A transformer architecture is an encoder-decoder network that uses self-attention on the encoder side and attention on the decoder side. BERTBASE has 12 layers in the Encoder stack while BERTLARGE has 24 layers in the Encoder stack. These are more than the Transformer architecture described in the original paper (6 encoder layers). \n",
    "BERT architectures (BASE and LARGE) also have larger feedforward-networks (768 and 1024 hidden units respectively), and more attention heads (12 and 16 respectively) than the Transformer architecture suggested in the original paper. It contains 512 hidden units and 8 attention heads. BERTBASE contains 110M parameters while BERTLARGE has 340M parameters."
   ]
  },
  {
   "cell_type": "code",
   "execution_count": null,
   "id": "bebb3c28",
   "metadata": {},
   "outputs": [],
   "source": [
    "Question 2. Explain Masked Language Modeling (MLM) ?\n",
    "\n",
    "Ans: Masked language modeling is an example of autoencoding language modeling (the output is reconstructed from corrupted input) - we typically mask one or more of words in a sentence and have the model predict those masked words given the other words in sentence. By training the model with such an objective, it can essentially learn certain (but not all) statistical properties of word sequences.\n",
    "\n",
    "BERT is a model that is trained on a masked language modeling objective.\n",
    "\n",
    "Language modeling approaches - Autoregressive approach (e.g. left to right prediction, right to left prediction). Masked language approach - Using prediction of a word using all other words in a sentence (the words in red in BERT case is masked out - replaced with a special token [MASK]). BERT masks about 15% of words in a sentence and using the context words to predict it.\n",
    "\n",
    "Masked language modeling is useful when trying to learn deep representations (that is learning multiple representations of a word using a deep model - these representations have shown to improve performance in downstream tasks. For example lower layer representations of certain models being useful for syntactic tasks whereas higher layer representations for semantic tasks) for a word using words from either side of a word in a sentence (deep and bidirectional representations).\n",
    "\n",
    "A masked language model is particularly useful for learning deep bidirectional representations because the standard language modeling approach (autoregressive modeling) wont work in a deep model with bidirectional context - the prediction of a word would indirectly see itself making the prediction trivial as shown below (the word “times” can be used in its own prediction from layer 2 onwards. BERT addresses this problem by replacing the word being predicted with a mask token) . \n",
    "However, we could also learn deep bidirectional representations without having to resort to masked language modeling by using the permutation approach of a more recent model - XLNet."
   ]
  },
  {
   "cell_type": "code",
   "execution_count": null,
   "id": "9b389ed6",
   "metadata": {},
   "outputs": [],
   "source": [
    "Question 3. Explain Next Sentence Prediction (NSP) ?\n",
    "\n",
    "Ans: Next sentence prediction (NSP) is one-half of the training process behind the BERT model (the other being masked-language modeling — MLM). \n",
    "     Where MLM teaches BERT to understand relationships between words — NSP teaches BERT to understand longer-term dependencies across sentences."
   ]
  },
  {
   "cell_type": "code",
   "execution_count": null,
   "id": "7f52406d",
   "metadata": {},
   "outputs": [],
   "source": [
    "Question 4. What is Matthews evaluation?\n",
    "\n",
    "Ans: Matthews defined VM, known as the Matthews coefficient, as the crystal volume per unit of protein molecular weight, and showed that VM bears a straightforward relationship to the fractional volume of solvent in the crystal"
   ]
  },
  {
   "cell_type": "code",
   "execution_count": null,
   "id": "51df2f3b",
   "metadata": {},
   "outputs": [],
   "source": [
    "Question 5. What is Matthews Correlation Coefficient (MCC)?\n",
    "\n",
    "Ans: Matthew’s correlation coefficient, also abbreviated as MCC was invented by Brian Matthews in 1975. \n",
    "     MCC is a statistical tool used for model evaluation. Its job is to gauge or measure the difference between the predicted values and actual values and is equivalent to chi-square statistics for a 2 x 2 contingency table."
   ]
  },
  {
   "cell_type": "code",
   "execution_count": null,
   "id": "8655d730",
   "metadata": {},
   "outputs": [],
   "source": [
    "Question 6. Explain Semantic Role Labeling ?\n",
    "\n",
    "Ans: In natural language processing, semantic role labeling (also called shallow semantic parsing or slot-filling) is the process that assigns labels to words or phrases in a sentence that indicates their semantic role in the sentence, such as that of an agent, goal, or result.\n",
    "\n",
    "It serves to find the meaning of the sentence. To do this, it detects the arguments associated with the predicate or verb of a sentence and how they are classified into their specific roles."
   ]
  },
  {
   "cell_type": "code",
   "execution_count": null,
   "id": "991a2803",
   "metadata": {},
   "outputs": [],
   "source": [
    "Question 7. Why Fine-tuning a BERT model takes less time than pretraining ?\n",
    "\n",
    "Ans: During pre-training, the model is trained on unlabeled data over different pre-training tasks. For fine-tuning, the BERT model is first initialized with the pre-trained parameters, and all of the parameters are fine-tuned using labeled data from the downstream tasks."
   ]
  },
  {
   "cell_type": "code",
   "execution_count": null,
   "id": "0e6bfbb2",
   "metadata": {},
   "outputs": [],
   "source": [
    "Question 8. Recognizing Textual Entailment (RTE) ?\n",
    "\n",
    "Ans: Textual Entailment Recognition has been proposed recently as a generic task that captures major semantic inference needs across many NLP applications, such as Question Answering, Information Retrieval, Information Extraction, and Text Summarization. This task requires to recognize, given two text fragments, whether the meaning of one text is entailed (can be inferred) from the other text."
   ]
  },
  {
   "cell_type": "code",
   "execution_count": null,
   "id": "0cfd3b67",
   "metadata": {},
   "outputs": [],
   "source": [
    "Question 9. Explain the decoder stack of GPT models ?\n",
    "\n",
    "Ans: GPT-2 does not require the encoder part of the original transformer architecture as it is decoder-only, and there are no encoder attention blocks, so the decoder is equivalent to the encoder, except for the MASKING in the multi-head attention block, the decoder is only allowed to glean information from the prior words"
   ]
  }
 ],
 "metadata": {
  "kernelspec": {
   "display_name": "Python 3 (ipykernel)",
   "language": "python",
   "name": "python3"
  },
  "language_info": {
   "codemirror_mode": {
    "name": "ipython",
    "version": 3
   },
   "file_extension": ".py",
   "mimetype": "text/x-python",
   "name": "python",
   "nbconvert_exporter": "python",
   "pygments_lexer": "ipython3",
   "version": "3.9.12"
  }
 },
 "nbformat": 4,
 "nbformat_minor": 5
}
