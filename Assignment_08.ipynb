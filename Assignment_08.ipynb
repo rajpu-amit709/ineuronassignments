{
 "cells": [
  {
   "cell_type": "code",
   "execution_count": null,
   "id": "92020f71",
   "metadata": {},
   "outputs": [],
   "source": [
    "Question 1. Is the Python Standard Library included with PyInputPlus?\n",
    "\n",
    "Ans: No, PyInputPlus is not a part of Python Standard Library, it needs to be installed explicitly using the command !pip install PyInputPlus"
   ]
  },
  {
   "cell_type": "code",
   "execution_count": null,
   "id": "3353c82c",
   "metadata": {},
   "outputs": [],
   "source": [
    "Question 2. Why is PyInputPlus commonly imported with import pyinputplus as pypi?\n",
    "\n",
    "Ans: You can import the module with import pyinputplus as pyip so that you can enter a shorter name when calling the module's functions."
   ]
  },
  {
   "cell_type": "code",
   "execution_count": null,
   "id": "bbefab94",
   "metadata": {},
   "outputs": [],
   "source": [
    "Question 3. How do you distinguish between inputInt() and inputFloat()?\n",
    "\n",
    "Ans: inputInt() function Accepts an integer value. This also takes additional parameters min, max, greaterThan and lessThan for bounds. And it always returns an int.\n",
    "\n",
    "Whereas inputFloat() function Accepts a floating-point numeric value. this also takes additional min, max, greaterThan and lessThan parameters. and always returns a float.\n",
    "3. How do you distinguish between inputInt() and inputFloat()?\n",
    "Ans: inputInt() function Accepts an integer value. This also takes additional parameters min, max, greaterThan and lessThan for bounds. And it always returns an int.\n",
    "\n",
    "Whereas inputFloat() function Accepts a floating-point numeric value. this also takes additional min, max, greaterThan and lessThan parameters. and always returns a float.\n"
   ]
  },
  {
   "cell_type": "code",
   "execution_count": null,
   "id": "5e357e57",
   "metadata": {},
   "outputs": [],
   "source": [
    "Question 4. Using PyInputPlus, how do you ensure that the user enters a whole number between 0 and 99?\n",
    "\n",
    "Ans: PyInputPlus module provides a function called as inputInt() which only returns only integer values. inorder to restrict the input between 0 and 99, i'ii use parameters like min & max to ensure that user enters the values between the defined range only.\n",
    "\n",
    "import pyinputplus as pyip\n",
    "wholenumber = pyip.inputInt(prompt='Enter a number: ', min=0, max=100)\n",
    "print(wholenumber)"
   ]
  },
  {
   "cell_type": "code",
   "execution_count": null,
   "id": "3890c2ad",
   "metadata": {},
   "outputs": [],
   "source": [
    "Question 5. What is transferred to the keyword arguments allowRegexes and blockRegexes?\n",
    "\n",
    "Ans: we can use allowRegexes and blockRegexes keyword arguments to take list of regular expression strings to determine what the pyinputplus function will reject or accept valid input."
   ]
  },
  {
   "cell_type": "code",
   "execution_count": null,
   "id": "ebb7c3f0",
   "metadata": {},
   "outputs": [],
   "source": [
    "Question 6. If a blank input is entered three times, what does inputStr(limit=3) do?\n",
    "\n",
    "Ans: The statement inputStr(limit=3) will throw two exceptions ValidationException and RetryLimitException. The first exception is thrown because blank values are not allowed by inputStr() function by default. it we want to consider blank values as valid input, we have to set blank=True.\n",
    "\n",
    "The second exception is occured because we have reached the max limit we have specified by using limit parameter. inorder to avoid this exception we can use default parameter to return a default value when max limit is reached."
   ]
  },
  {
   "cell_type": "code",
   "execution_count": null,
   "id": "c9a40c03",
   "metadata": {},
   "outputs": [],
   "source": [
    "Question 7. If blank input is entered three times, what does inputStr(limit=3, default='hello') do?\n",
    "\n",
    "Ans: Since the default parameter is set to hello. after blank input is entered three times instead of raising RetryLimitException exception. the function will return hello as response to the calling function"
   ]
  },
  {
   "cell_type": "code",
   "execution_count": null,
   "id": "e614d55d",
   "metadata": {},
   "outputs": [],
   "source": [
    "!pip install PyInputPlus"
   ]
  },
  {
   "cell_type": "code",
   "execution_count": null,
   "id": "6d29eb78",
   "metadata": {},
   "outputs": [],
   "source": []
  }
 ],
 "metadata": {
  "kernelspec": {
   "display_name": "Python 3 (ipykernel)",
   "language": "python",
   "name": "python3"
  },
  "language_info": {
   "codemirror_mode": {
    "name": "ipython",
    "version": 3
   },
   "file_extension": ".py",
   "mimetype": "text/x-python",
   "name": "python",
   "nbconvert_exporter": "python",
   "pygments_lexer": "ipython3",
   "version": "3.9.12"
  }
 },
 "nbformat": 4,
 "nbformat_minor": 5
}
