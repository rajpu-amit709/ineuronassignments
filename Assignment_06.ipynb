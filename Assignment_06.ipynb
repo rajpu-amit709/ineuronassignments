{
 "cells": [
  {
   "cell_type": "code",
   "execution_count": null,
   "id": "fb519e19",
   "metadata": {},
   "outputs": [],
   "source": [
    "Question 1. What are Escape characters ? and how do you use them ?\n",
    "\n",
    "Ans: Escape characters represent characters in string values that would otherwise be difficult or impossible to type into code. we can use the backslash character to escape a single character or symbol\n",
    "example: \\t, \\n"
   ]
  },
  {
   "cell_type": "code",
   "execution_count": null,
   "id": "ec9a48a6",
   "metadata": {},
   "outputs": [],
   "source": [
    "Question 2. What do the escape characters n and t stand for ?\n",
    "\n",
    "Ans: \\n is a newline, \\t is a tab"
   ]
  },
  {
   "cell_type": "code",
   "execution_count": null,
   "id": "314f7348",
   "metadata": {},
   "outputs": [],
   "source": [
    "Question 3. What is the way to include backslash character in a string?\n",
    "\n",
    "Ans: The \\\\ escape character will represent the backslash character in a string"
   ]
  },
  {
   "cell_type": "code",
   "execution_count": null,
   "id": "dcecead8",
   "metadata": {},
   "outputs": [],
   "source": [
    "Question 4.The string \"Howl's Moving Castle\" is a correct value. Why isn't the single quote character in the word Howl's not escaped a problem ?\n",
    "\n",
    "Ans: The string \"Howl's Moving Castle\" escaped the problem because it is wrapped inside double quotes. if its wrapped inside single quotes then we have to use escape character \\' to show single quote in the final output\n",
    "'Howl\\'s Moving Castle' -> 'Howl's Moving Castle'"
   ]
  },
  {
   "cell_type": "code",
   "execution_count": null,
   "id": "eb12095a",
   "metadata": {},
   "outputs": [],
   "source": [
    "Question 5.How do you write a string of newlines if you don't want to use the n character?\n",
    "\n",
    "Ans: Multiline string allow you to use newlines in string without the \\n escape character\n"
   ]
  },
  {
   "cell_type": "code",
   "execution_count": 4,
   "id": "089920e9",
   "metadata": {},
   "outputs": [
    {
     "name": "stdout",
     "output_type": "stream",
     "text": [
      "Udaipur is a city of Lakes \n",
      "It is situated in  Rajasthan\n"
     ]
    }
   ],
   "source": [
    "# Example:\n",
    "a = '''Udaipur is a city of Lakes \n",
    "It is situated in  Rajasthan'''\n",
    "print(a)"
   ]
  },
  {
   "cell_type": "code",
   "execution_count": null,
   "id": "d913ea50",
   "metadata": {},
   "outputs": [],
   "source": [
    "Question 6. What are the values of the given expressions ?\n",
    "'Hello, world!'[1]\n",
    "'Hello, world!'[0:5]\n",
    "'Hello, world!'[:5]\n",
    "'Hello, world!'[3:]\n",
    "\n",
    "Ans: The values for the given expressions are:\n",
    "'Hello, world!'[1] -> 'e'\n",
    "'Hello, world!'[0:5] -> 'Hello'\n",
    "'Hello, world!'[:5] -> 'Hello'\n",
    "'Hello, world!'[3:] -> 'lo, world!'\n"
   ]
  },
  {
   "cell_type": "code",
   "execution_count": null,
   "id": "19316138",
   "metadata": {},
   "outputs": [],
   "source": [
    "Question 7. What are the values of the following expressions ?\n",
    "'Hello'.upper()\n",
    "'Hello'.upper().isupper()\n",
    "'Hello'.upper().lower()\n",
    "\n",
    "Ans: The values for the given expressions are:\n",
    "'Hello'.upper() -> 'HELLO'\n",
    "'Hello'.upper().isupper() -> True\n",
    "'Hello'.upper().lower() -> 'hello'\n"
   ]
  },
  {
   "cell_type": "code",
   "execution_count": null,
   "id": "8663a6bc",
   "metadata": {},
   "outputs": [],
   "source": [
    "Question 8. What are the values of the following expressions ?\n",
    "'Remember, remember, the fifith of July.'.split()\n",
    "-'.join('There can only one'.split())\n",
    "\n",
    "Ans: The values for the given expressions are:\n",
    "'Remember, remember, the fifith of July.'.split() -> ['Remember,', 'remember,', 'the', 'fifith', 'of', 'July.']\n",
    "'-'.join('There can only one'.split()) -> 'There-can-only-one'"
   ]
  },
  {
   "cell_type": "code",
   "execution_count": null,
   "id": "5f414cc6",
   "metadata": {},
   "outputs": [],
   "source": [
    "Question 9.What are the methods for right-justifying, left-justifying and centering a string ?\n",
    "\n",
    "Ans: The rjust(),ljust(),center() string methods, respectively"
   ]
  },
  {
   "cell_type": "code",
   "execution_count": null,
   "id": "7b3fd04d",
   "metadata": {},
   "outputs": [],
   "source": [
    "Question 10. What is the best way to remove whitespace characters from the start or end ?\n",
    "\n",
    "Ans: The lstrip() and rstrip() methods remove whitesapce characters from the left and right ends of a string respectively"
   ]
  }
 ],
 "metadata": {
  "kernelspec": {
   "display_name": "Python 3 (ipykernel)",
   "language": "python",
   "name": "python3"
  },
  "language_info": {
   "codemirror_mode": {
    "name": "ipython",
    "version": 3
   },
   "file_extension": ".py",
   "mimetype": "text/x-python",
   "name": "python",
   "nbconvert_exporter": "python",
   "pygments_lexer": "ipython3",
   "version": "3.9.12"
  }
 },
 "nbformat": 4,
 "nbformat_minor": 5
}
